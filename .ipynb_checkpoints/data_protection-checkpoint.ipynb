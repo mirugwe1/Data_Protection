{
 "cells": [
  {
   "cell_type": "markdown",
   "id": "17f8aae6",
   "metadata": {
    "pycharm": {
     "name": "#%% md\n"
    },
    "tags": []
   },
   "source": [
    "# AES AND RSA DATA ENCRYPTION ALGORITHM"
   ]
  },
  {
   "cell_type": "markdown",
   "id": "b4f3d7ae",
   "metadata": {
    "pycharm": {
     "name": "#%% md\n"
    }
   },
   "source": [
    "The Advanced Encryption Standard (AES) is a symmetric block cipher that operates on fixed-size blocks of plaintext and produces ciphertext of the same size. Symmetric encryption algorithms use the same key for both encryption and decryption. AES supports key sizes of 128, 192, or 256 bits. \n",
    "\n",
    "RSA (Rivest–Shamir–Adleman) is an encryption algorithm used to securely transmit data over a communication channel. RSA is asymmetric encrytion algorithm that uses **public key** for *encryption* and a **private key** for *decryption*. These keys are randomly generated using methods provided by approved cryptography libraries, like *pycryptodome* in Python. But this algorithm is mainly suitable for small plaintext files.\n",
    "\n",
    "In this project, we are using an hybrid encryption scheme where we utilize symmetric encryption to encrypt and decrypt the data and then use RSA encryption to encrypt and decrypt the symmetric encryption key (to  ensure secure distribution of AES key). The hybrid encryption algorithm combines the advantages of fast encryption speed of AES algorithm, easy management of RSA algorithm key, and digital signature to ensure the secure transmission of confidential files.\n",
    "\n",
    "**Steps Involved**\n",
    "\n",
    "**Sender**\n",
    "\n",
    "* Getting a file to encrypt\n",
    "* Creating random aes symmetric key\n",
    "* Generate the recipient's public and private keys \n",
    "* Encrypt the AES key with the public key (RSA asymmetric)\n",
    "* Use the AES key to encrypt the file (AES symmetric)\n",
    "* Write both encrypted file and encrypted AES key to one bundled file\n",
    "* Send the bundle file to the recipient\n",
    "\n",
    "**Recipient**\n",
    "\n",
    "* Read first 16 bytes of bundled file (get RSA encrypted AES key)\n",
    "* Read the next 16 bytes and get IV\n",
    "* Decrypt the AES key with the private RSA key\n",
    "* Use the AES key to decrypt the rest of the bundled file\n",
    "* Open file\n",
    "\n",
    "\n",
    "<figure>\n",
    "<center>\n",
    "<img src=\"encryption.png\" alt=\"Trulli\" style=\"width:50%\">\n",
    "<center><b>Fig.1 - Encryption-Decryption Framework </b></center>\n",
    "</center>\n",
    "</figure>"
   ]
  },
  {
   "cell_type": "code",
   "execution_count": 1,
   "id": "f4e06ab3",
   "metadata": {
    "pycharm": {
     "name": "#%%\n"
    }
   },
   "outputs": [
    {
     "ename": "ModuleNotFoundError",
     "evalue": "No module named 'Crypto'",
     "output_type": "error",
     "traceback": [
      "\u001b[0;31m---------------------------------------------------------------------------\u001b[0m",
      "\u001b[0;31mModuleNotFoundError\u001b[0m                       Traceback (most recent call last)",
      "\u001b[0;32m/var/folders/gv/f1zhr9w978lflmz2p3h_mrm00000gn/T/ipykernel_47796/1814317208.py\u001b[0m in \u001b[0;36m<module>\u001b[0;34m\u001b[0m\n\u001b[1;32m      2\u001b[0m \u001b[0;32mimport\u001b[0m \u001b[0mpandas\u001b[0m \u001b[0;32mas\u001b[0m \u001b[0mpd\u001b[0m\u001b[0;34m\u001b[0m\u001b[0;34m\u001b[0m\u001b[0m\n\u001b[1;32m      3\u001b[0m \u001b[0;32mimport\u001b[0m \u001b[0mrsa\u001b[0m\u001b[0;34m\u001b[0m\u001b[0;34m\u001b[0m\u001b[0m\n\u001b[0;32m----> 4\u001b[0;31m \u001b[0;32mfrom\u001b[0m \u001b[0mCrypto\u001b[0m\u001b[0;34m.\u001b[0m\u001b[0mPublicKey\u001b[0m \u001b[0;32mimport\u001b[0m \u001b[0mRSA\u001b[0m\u001b[0;34m\u001b[0m\u001b[0;34m\u001b[0m\u001b[0m\n\u001b[0m\u001b[1;32m      5\u001b[0m \u001b[0;31m#from Crypto.Cipher import PKCS1_OAEP, AES\u001b[0m\u001b[0;34m\u001b[0m\u001b[0;34m\u001b[0m\u001b[0m\n\u001b[1;32m      6\u001b[0m \u001b[0;31m#from Crypto.Util.Padding import pad, unpad\u001b[0m\u001b[0;34m\u001b[0m\u001b[0;34m\u001b[0m\u001b[0m\n",
      "\u001b[0;31mModuleNotFoundError\u001b[0m: No module named 'Crypto'"
     ]
    }
   ],
   "source": [
    "import os\n",
    "import pandas as pd\n",
    "import rsa\n",
    "from Crypto.PublicKey import RSA\n",
    "#from Crypto.Cipher import PKCS1_OAEP, AES\n",
    "#from Crypto.Util.Padding import pad, unpad"
   ]
  },
  {
   "cell_type": "markdown",
   "id": "d8193f5b",
   "metadata": {
    "pycharm": {
     "name": "#%% md\n"
    }
   },
   "source": [
    "# Data Set"
   ]
  },
  {
   "cell_type": "code",
   "execution_count": 3,
   "id": "4b4e6ce4",
   "metadata": {
    "pycharm": {
     "name": "#%%\n"
    }
   },
   "outputs": [
    {
     "data": {
      "text/html": [
       "<div>\n",
       "<style scoped>\n",
       "    .dataframe tbody tr th:only-of-type {\n",
       "        vertical-align: middle;\n",
       "    }\n",
       "\n",
       "    .dataframe tbody tr th {\n",
       "        vertical-align: top;\n",
       "    }\n",
       "\n",
       "    .dataframe thead th {\n",
       "        text-align: right;\n",
       "    }\n",
       "</style>\n",
       "<table border=\"1\" class=\"dataframe\">\n",
       "  <thead>\n",
       "    <tr style=\"text-align: right;\">\n",
       "      <th></th>\n",
       "      <th>patientUID</th>\n",
       "      <th>hivClinicNo</th>\n",
       "      <th>nationalNo</th>\n",
       "      <th>nameFamily</th>\n",
       "      <th>nameGiven</th>\n",
       "      <th>phoneNumber</th>\n",
       "      <th>birthDate</th>\n",
       "      <th>subcounty</th>\n",
       "      <th>parish</th>\n",
       "      <th>village</th>\n",
       "    </tr>\n",
       "  </thead>\n",
       "  <tbody>\n",
       "    <tr>\n",
       "      <th>46</th>\n",
       "      <td>c1d0ee88-d79a-4499-9117-44344418c515</td>\n",
       "      <td>699</td>\n",
       "      <td>CF55027108JTWL</td>\n",
       "      <td>JADRESS</td>\n",
       "      <td>NAIGA</td>\n",
       "      <td>0781256109                                    ...</td>\n",
       "      <td>1955-05-15</td>\n",
       "      <td>KAKINGA</td>\n",
       "      <td>KABUNGA</td>\n",
       "      <td>NaN</td>\n",
       "    </tr>\n",
       "    <tr>\n",
       "      <th>55</th>\n",
       "      <td>e0e92039-17d2-4dac-a6e6-0c74604007b9</td>\n",
       "      <td>575</td>\n",
       "      <td>CF66046102FH4A</td>\n",
       "      <td>SARAH</td>\n",
       "      <td>NYAMUSHANA</td>\n",
       "      <td>NaN</td>\n",
       "      <td>1965-02-01</td>\n",
       "      <td>KABULISOKE</td>\n",
       "      <td>KABULISOKE</td>\n",
       "      <td>NaN</td>\n",
       "    </tr>\n",
       "    <tr>\n",
       "      <th>62</th>\n",
       "      <td>714469e7-a46a-4081-9479-a71394872fb8</td>\n",
       "      <td>636</td>\n",
       "      <td>CF70037107PV3J</td>\n",
       "      <td>DEZIRANTA</td>\n",
       "      <td>KYOMUGISHA</td>\n",
       "      <td>0774213691                                    ...</td>\n",
       "      <td>1972-10-08</td>\n",
       "      <td>Kamwenge</td>\n",
       "      <td>TAXI PARK</td>\n",
       "      <td>NaN</td>\n",
       "    </tr>\n",
       "    <tr>\n",
       "      <th>65</th>\n",
       "      <td>c7b77b78-7acf-4f18-a375-140324c3fe49</td>\n",
       "      <td>172</td>\n",
       "      <td>CF92018106VPRC</td>\n",
       "      <td>EVASI</td>\n",
       "      <td>MANIRAGABA</td>\n",
       "      <td>0786258715                                    ...</td>\n",
       "      <td>1966-09-23</td>\n",
       "      <td>Kamwenge ward</td>\n",
       "      <td>GALIRAYA</td>\n",
       "      <td>NaN</td>\n",
       "    </tr>\n",
       "    <tr>\n",
       "      <th>67</th>\n",
       "      <td>7c51fdac-a466-4665-9e94-d33a996df568</td>\n",
       "      <td>711</td>\n",
       "      <td>CF64046100GXJH</td>\n",
       "      <td>KEMIREMBE</td>\n",
       "      <td>JOLLY</td>\n",
       "      <td>0781327260                                    ...</td>\n",
       "      <td>1964-05-11</td>\n",
       "      <td>GANIKO</td>\n",
       "      <td>ZAZIBA</td>\n",
       "      <td>NaN</td>\n",
       "    </tr>\n",
       "    <tr>\n",
       "      <th>71</th>\n",
       "      <td>0a442b85-cca7-4584-b94e-14f654435748</td>\n",
       "      <td>363</td>\n",
       "      <td>CF6600910AWAYJ</td>\n",
       "      <td>ELIZABETH</td>\n",
       "      <td>NGABIRANO</td>\n",
       "      <td>0775461448                                    ...</td>\n",
       "      <td>1968-02-15</td>\n",
       "      <td>RWENJAZA</td>\n",
       "      <td>OMUKITORO</td>\n",
       "      <td>NaN</td>\n",
       "    </tr>\n",
       "    <tr>\n",
       "      <th>75</th>\n",
       "      <td>17c09bc3-fd45-4ae7-9db8-33289e9a8fda</td>\n",
       "      <td>016</td>\n",
       "      <td>CF7100910G5J0G</td>\n",
       "      <td>PEACE</td>\n",
       "      <td>KATUSABE</td>\n",
       "      <td>0772427930                                    ...</td>\n",
       "      <td>1970</td>\n",
       "      <td>Kamwenge ward</td>\n",
       "      <td>Kamwenge village</td>\n",
       "      <td>NaN</td>\n",
       "    </tr>\n",
       "    <tr>\n",
       "      <th>83</th>\n",
       "      <td>2cc16284-9a0b-4978-adb5-8ec215637732</td>\n",
       "      <td>698</td>\n",
       "      <td>CF80046100988J</td>\n",
       "      <td>LILIAN</td>\n",
       "      <td>NSHEMEREIRWE</td>\n",
       "      <td>0787497244                                    ...</td>\n",
       "      <td>1982-10-07</td>\n",
       "      <td>RUKINGA</td>\n",
       "      <td>RUKINGA</td>\n",
       "      <td>NaN</td>\n",
       "    </tr>\n",
       "    <tr>\n",
       "      <th>87</th>\n",
       "      <td>0a397102-ce18-49eb-a958-4bfdff891978</td>\n",
       "      <td>614</td>\n",
       "      <td>CF5900910G27JC</td>\n",
       "      <td>OLIVA</td>\n",
       "      <td>KEMITARE</td>\n",
       "      <td>0774856452                                    ...</td>\n",
       "      <td>1963-12-27</td>\n",
       "      <td>KESISINGO</td>\n",
       "      <td>KEBISINGO</td>\n",
       "      <td>NaN</td>\n",
       "    </tr>\n",
       "    <tr>\n",
       "      <th>89</th>\n",
       "      <td>f51ebe30-af1e-40c7-8d3b-5de1044b70ea</td>\n",
       "      <td>442</td>\n",
       "      <td>CF300910A7NWC</td>\n",
       "      <td>GAUDENSIA</td>\n",
       "      <td>TUMUHAIRWE</td>\n",
       "      <td>NaN</td>\n",
       "      <td>1980-06-04</td>\n",
       "      <td>Kamwenge TC</td>\n",
       "      <td>KABULISOKE</td>\n",
       "      <td>NaN</td>\n",
       "    </tr>\n",
       "  </tbody>\n",
       "</table>\n",
       "</div>"
      ],
      "text/plain": [
       "                              patientUID hivClinicNo      nationalNo  \\\n",
       "46  c1d0ee88-d79a-4499-9117-44344418c515         699  CF55027108JTWL   \n",
       "55  e0e92039-17d2-4dac-a6e6-0c74604007b9         575  CF66046102FH4A   \n",
       "62  714469e7-a46a-4081-9479-a71394872fb8         636  CF70037107PV3J   \n",
       "65  c7b77b78-7acf-4f18-a375-140324c3fe49         172  CF92018106VPRC   \n",
       "67  7c51fdac-a466-4665-9e94-d33a996df568         711  CF64046100GXJH   \n",
       "71  0a442b85-cca7-4584-b94e-14f654435748         363  CF6600910AWAYJ   \n",
       "75  17c09bc3-fd45-4ae7-9db8-33289e9a8fda         016  CF7100910G5J0G   \n",
       "83  2cc16284-9a0b-4978-adb5-8ec215637732         698  CF80046100988J   \n",
       "87  0a397102-ce18-49eb-a958-4bfdff891978         614  CF5900910G27JC   \n",
       "89  f51ebe30-af1e-40c7-8d3b-5de1044b70ea         442   CF300910A7NWC   \n",
       "\n",
       "   nameFamily     nameGiven  \\\n",
       "46    JADRESS         NAIGA   \n",
       "55      SARAH    NYAMUSHANA   \n",
       "62  DEZIRANTA    KYOMUGISHA   \n",
       "65      EVASI    MANIRAGABA   \n",
       "67  KEMIREMBE         JOLLY   \n",
       "71  ELIZABETH     NGABIRANO   \n",
       "75      PEACE      KATUSABE   \n",
       "83     LILIAN  NSHEMEREIRWE   \n",
       "87      OLIVA      KEMITARE   \n",
       "89  GAUDENSIA    TUMUHAIRWE   \n",
       "\n",
       "                                          phoneNumber   birthDate  \\\n",
       "46  0781256109                                    ...  1955-05-15   \n",
       "55                                                NaN  1965-02-01   \n",
       "62  0774213691                                    ...  1972-10-08   \n",
       "65  0786258715                                    ...  1966-09-23   \n",
       "67  0781327260                                    ...  1964-05-11   \n",
       "71  0775461448                                    ...  1968-02-15   \n",
       "75  0772427930                                    ...        1970   \n",
       "83  0787497244                                    ...  1982-10-07   \n",
       "87  0774856452                                    ...  1963-12-27   \n",
       "89                                                NaN  1980-06-04   \n",
       "\n",
       "        subcounty            parish village  \n",
       "46        KAKINGA           KABUNGA     NaN  \n",
       "55     KABULISOKE        KABULISOKE     NaN  \n",
       "62       Kamwenge         TAXI PARK     NaN  \n",
       "65  Kamwenge ward          GALIRAYA     NaN  \n",
       "67         GANIKO            ZAZIBA     NaN  \n",
       "71       RWENJAZA         OMUKITORO     NaN  \n",
       "75  Kamwenge ward  Kamwenge village     NaN  \n",
       "83        RUKINGA           RUKINGA     NaN  \n",
       "87      KESISINGO         KEBISINGO     NaN  \n",
       "89    Kamwenge TC        KABULISOKE     NaN  "
      ]
     },
     "execution_count": 3,
     "metadata": {},
     "output_type": "execute_result"
    }
   ],
   "source": [
    "pd.set_option('display.max_columns', None)\n",
    "df_encrypt = pd.read_csv('df_patient_match.csv',low_memory=False)\n",
    "df_encrypt = df_encrypt[['patientUID','hivClinicNo','nationalNo',\"nameFamily\",\"nameGiven\",'phoneNumber','birthDate','subcounty','parish','village']]\n",
    "df_encrypt = df_encrypt[df_encrypt['nationalNo'].notnull()]\n",
    "df_encrypt.head(10)"
   ]
  },
  {
   "cell_type": "code",
   "execution_count": 1,
   "id": "c13c4a3d-052e-4230-86ec-0e6ef2f80657",
   "metadata": {
    "pycharm": {
     "name": "#%%\n"
    }
   },
   "outputs": [
    {
     "ename": "NameError",
     "evalue": "name 'df_encrypt' is not defined",
     "output_type": "error",
     "traceback": [
      "\u001b[0;31m---------------------------------------------------------------------------\u001b[0m",
      "\u001b[0;31mNameError\u001b[0m                                 Traceback (most recent call last)",
      "\u001b[0;32m/var/folders/gv/f1zhr9w978lflmz2p3h_mrm00000gn/T/ipykernel_14784/2244672585.py\u001b[0m in \u001b[0;36m<module>\u001b[0;34m\u001b[0m\n\u001b[0;32m----> 1\u001b[0;31m \u001b[0mdf_encrypt\u001b[0m\u001b[0;34m.\u001b[0m\u001b[0mshape\u001b[0m\u001b[0;34m(\u001b[0m\u001b[0;34m)\u001b[0m\u001b[0;34m\u001b[0m\u001b[0;34m\u001b[0m\u001b[0m\n\u001b[0m",
      "\u001b[0;31mNameError\u001b[0m: name 'df_encrypt' is not defined"
     ]
    }
   ],
   "source": [
    "df_encrypt.shape()"
   ]
  },
  {
   "cell_type": "code",
   "execution_count": 5,
   "id": "31f96019",
   "metadata": {
    "pycharm": {
     "name": "#%%\n"
    }
   },
   "outputs": [],
   "source": [
    "df_encrypt.to_csv('df_encrypt.csv', index=False)"
   ]
  },
  {
   "cell_type": "markdown",
   "id": "8d5f821b",
   "metadata": {
    "pycharm": {
     "name": "#%% md\n"
    }
   },
   "source": [
    "# Generation of keys"
   ]
  },
  {
   "cell_type": "code",
   "execution_count": 4,
   "id": "d7000986",
   "metadata": {
    "pycharm": {
     "name": "#%%\n"
    }
   },
   "outputs": [],
   "source": [
    "# Generating a new RSA key pair\n",
    "key = RSA.generate(2048)\n",
    "\n",
    "# Saving the public and private keys\n",
    "with open('public_key.pem', 'wb') as file:\n",
    "    file.write(key.publickey().export_key())\n",
    "    \n",
    "with open('private_key.pem', 'wb') as file:\n",
    "    file.write(key.export_key())"
   ]
  },
  {
   "cell_type": "markdown",
   "id": "060870af",
   "metadata": {
    "pycharm": {
     "name": "#%% md\n"
    }
   },
   "source": [
    "# Opening a dataset for encryption"
   ]
  },
  {
   "cell_type": "code",
   "execution_count": 5,
   "id": "5065f09c",
   "metadata": {
    "pycharm": {
     "name": "#%%\n"
    }
   },
   "outputs": [],
   "source": [
    "# Opening the dataset file for encryption in binary format\n",
    "with open('df_encrypt.csv', 'rb') as file:\n",
    "    data = file.read()"
   ]
  },
  {
   "cell_type": "markdown",
   "id": "cf961519",
   "metadata": {
    "pycharm": {
     "name": "#%% md\n"
    }
   },
   "source": [
    "# Encryption Key Generation"
   ]
  },
  {
   "cell_type": "code",
   "execution_count": 6,
   "id": "a5a9bd1c",
   "metadata": {
    "pycharm": {
     "name": "#%%\n"
    }
   },
   "outputs": [],
   "source": [
    "# Generate a random 256-bit encryption key\n",
    "symmetric_key = os.urandom(32)\n",
    "\n",
    "# Initialize the AES cipher in CBC mode with a random IV\n",
    "iv = os.urandom(16)\n",
    "cipher = AES.new(symmetric_key, AES.MODE_CBC, iv=iv)\n",
    "\n",
    "# Pad the data to a multiple of 16 bytes (AES block size)\n",
    "padded_data = pad(data, AES.block_size)"
   ]
  },
  {
   "cell_type": "markdown",
   "id": "e45139db",
   "metadata": {
    "pycharm": {
     "name": "#%% md\n"
    }
   },
   "source": [
    "# Encryption"
   ]
  },
  {
   "cell_type": "code",
   "execution_count": 7,
   "id": "cdb1ae3c",
   "metadata": {
    "pycharm": {
     "name": "#%%\n"
    }
   },
   "outputs": [],
   "source": [
    "# Encrypt the data with AES\n",
    "encrypted_data = cipher.encrypt(padded_data)\n",
    "\n",
    "# Encrypt the symmetric key with RSA\n",
    "rsa_cipher = PKCS1_OAEP.new(key.publickey())\n",
    "encrypted_symmetric_key = rsa_cipher.encrypt(symmetric_key)\n",
    "\n",
    "# Save the encrypted data and symmetric key to a new file\n",
    "with open('encrypted_data.bin', 'wb') as file:\n",
    "    file.write(encrypted_symmetric_key + iv + encrypted_data)\n",
    "\n",
    "# Open the encrypted data file for decryption in binary mode\n",
    "with open('encrypted_data.bin', 'rb') as file:\n",
    "    encrypted_data = file.read()\n",
    "\n",
    "# Extract the encrypted symmetric key and IV from the file\n",
    "encrypted_symmetric_key = encrypted_data[:key.size_in_bytes()]\n",
    "iv = encrypted_data[key.size_in_bytes():key.size_in_bytes()+AES.block_size]"
   ]
  },
  {
   "cell_type": "code",
   "execution_count": 13,
   "id": "bd78875b-3ff8-4beb-9204-2a5070762a34",
   "metadata": {
    "pycharm": {
     "name": "#%%\n"
    }
   },
   "outputs": [],
   "source": [
    "# Saving a csv of encrypted data\n",
    "with open('encrypted_data.csv', 'wb') as file:\n",
    "    file.write(encrypted_data)"
   ]
  },
  {
   "cell_type": "markdown",
   "id": "90725fac",
   "metadata": {
    "pycharm": {
     "name": "#%% md\n"
    }
   },
   "source": [
    "# Decryption"
   ]
  },
  {
   "cell_type": "code",
   "execution_count": 13,
   "id": "166cf11f",
   "metadata": {
    "pycharm": {
     "name": "#%%\n"
    }
   },
   "outputs": [],
   "source": [
    "# Decrypt the symmetric key with RSA\n",
    "rsa_cipher = PKCS1_OAEP.new(key)\n",
    "symmetric_key = rsa_cipher.decrypt(encrypted_symmetric_key)\n",
    "\n",
    "# Initialize the AES cipher with the decrypted symmetric key and IV\n",
    "cipher = AES.new(symmetric_key, AES.MODE_CBC, iv=iv)\n",
    "\n",
    "# Decrypt the data with AES\n",
    "decrypted_data = unpad(cipher.decrypt(encrypted_data[key.size_in_bytes()+AES.block_size:]), AES.block_size)\n",
    "\n",
    "# Saving a csv of the decrypted data\n",
    "with open('decrypted_data.csv', 'wb') as file:\n",
    "    file.write(decrypted_data)\n"
   ]
  }
 ],
 "metadata": {
  "kernelspec": {
   "display_name": "Python 3 (ipykernel)",
   "language": "python",
   "name": "python3"
  },
  "language_info": {
   "codemirror_mode": {
    "name": "ipython",
    "version": 3
   },
   "file_extension": ".py",
   "mimetype": "text/x-python",
   "name": "python",
   "nbconvert_exporter": "python",
   "pygments_lexer": "ipython3",
   "version": "3.9.13"
  }
 },
 "nbformat": 4,
 "nbformat_minor": 5
}
