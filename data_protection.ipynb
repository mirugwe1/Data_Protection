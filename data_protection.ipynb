{
 "cells": [
  {
   "cell_type": "code",
   "execution_count": 1,
   "id": "f4e06ab3",
   "metadata": {
    "pycharm": {
     "name": "#%%\n"
    }
   },
   "outputs": [],
   "source": [
    "#reading packages\n",
    "import os\n",
    "import pandas as pd\n",
    "import rsa\n",
    "from Crypto.PublicKey import RSA\n",
    "from Crypto.Cipher import PKCS1_OAEP, AES\n",
    "from Crypto.Util.Padding import pad, unpad"
   ]
  },
  {
   "cell_type": "markdown",
   "id": "d8193f5b",
   "metadata": {
    "pycharm": {
     "name": "#%% md\n"
    }
   },
   "source": [
    "# Data Set"
   ]
  },
  {
   "cell_type": "code",
   "execution_count": 2,
   "id": "4b4e6ce4",
   "metadata": {
    "pycharm": {
     "name": "#%%\n"
    }
   },
   "outputs": [
    {
     "data": {
      "text/html": [
       "<div>\n",
       "<style scoped>\n",
       "    .dataframe tbody tr th:only-of-type {\n",
       "        vertical-align: middle;\n",
       "    }\n",
       "\n",
       "    .dataframe tbody tr th {\n",
       "        vertical-align: top;\n",
       "    }\n",
       "\n",
       "    .dataframe thead th {\n",
       "        text-align: right;\n",
       "    }\n",
       "</style>\n",
       "<table border=\"1\" class=\"dataframe\">\n",
       "  <thead>\n",
       "    <tr style=\"text-align: right;\">\n",
       "      <th></th>\n",
       "      <th>rec_id</th>\n",
       "      <th>given_name</th>\n",
       "      <th>surname</th>\n",
       "      <th>address_1</th>\n",
       "      <th>address_2</th>\n",
       "      <th>suburb</th>\n",
       "      <th>postcode</th>\n",
       "      <th>state</th>\n",
       "      <th>date_of_birth</th>\n",
       "      <th>soc_sec_id</th>\n",
       "    </tr>\n",
       "  </thead>\n",
       "  <tbody>\n",
       "    <tr>\n",
       "      <th>0</th>\n",
       "      <td>rec-1496-org</td>\n",
       "      <td>mitchell</td>\n",
       "      <td>green</td>\n",
       "      <td>wallaby place</td>\n",
       "      <td>delmar</td>\n",
       "      <td>cleveland</td>\n",
       "      <td>2119</td>\n",
       "      <td>sa</td>\n",
       "      <td>19560409.0</td>\n",
       "      <td>1804974</td>\n",
       "    </tr>\n",
       "    <tr>\n",
       "      <th>1</th>\n",
       "      <td>rec-552-dup-3</td>\n",
       "      <td>harley</td>\n",
       "      <td>mccarthy</td>\n",
       "      <td>pridhamstreet</td>\n",
       "      <td>milton</td>\n",
       "      <td>marsden</td>\n",
       "      <td>3165</td>\n",
       "      <td>nsw</td>\n",
       "      <td>19080419.0</td>\n",
       "      <td>6089216</td>\n",
       "    </tr>\n",
       "    <tr>\n",
       "      <th>2</th>\n",
       "      <td>rec-988-dup-1</td>\n",
       "      <td>madeline</td>\n",
       "      <td>mason</td>\n",
       "      <td>hoseason street</td>\n",
       "      <td>lakefront retrmnt vlge</td>\n",
       "      <td>granville</td>\n",
       "      <td>4881</td>\n",
       "      <td>nsw</td>\n",
       "      <td>19081128.0</td>\n",
       "      <td>2185997</td>\n",
       "    </tr>\n",
       "    <tr>\n",
       "      <th>3</th>\n",
       "      <td>rec-1716-dup-1</td>\n",
       "      <td>isabelle</td>\n",
       "      <td>NaN</td>\n",
       "      <td>gundulu place</td>\n",
       "      <td>currin ga</td>\n",
       "      <td>utakarra</td>\n",
       "      <td>2193</td>\n",
       "      <td>wa</td>\n",
       "      <td>19921119.0</td>\n",
       "      <td>4314184</td>\n",
       "    </tr>\n",
       "    <tr>\n",
       "      <th>4</th>\n",
       "      <td>rec-1213-org</td>\n",
       "      <td>taylor</td>\n",
       "      <td>hathaway</td>\n",
       "      <td>yuranigh court</td>\n",
       "      <td>brentwood vlge</td>\n",
       "      <td>NaN</td>\n",
       "      <td>4220</td>\n",
       "      <td>nsw</td>\n",
       "      <td>19991207.0</td>\n",
       "      <td>9144092</td>\n",
       "    </tr>\n",
       "  </tbody>\n",
       "</table>\n",
       "</div>"
      ],
      "text/plain": [
       "           rec_id given_name   surname        address_1  \\\n",
       "0    rec-1496-org   mitchell     green    wallaby place   \n",
       "1   rec-552-dup-3     harley  mccarthy    pridhamstreet   \n",
       "2   rec-988-dup-1   madeline     mason  hoseason street   \n",
       "3  rec-1716-dup-1   isabelle       NaN    gundulu place   \n",
       "4    rec-1213-org     taylor  hathaway   yuranigh court   \n",
       "\n",
       "                address_2     suburb  postcode state  date_of_birth  \\\n",
       "0                  delmar  cleveland      2119    sa     19560409.0   \n",
       "1                  milton    marsden      3165   nsw     19080419.0   \n",
       "2  lakefront retrmnt vlge  granville      4881   nsw     19081128.0   \n",
       "3               currin ga   utakarra      2193    wa     19921119.0   \n",
       "4          brentwood vlge        NaN      4220   nsw     19991207.0   \n",
       "\n",
       "   soc_sec_id  \n",
       "0     1804974  \n",
       "1     6089216  \n",
       "2     2185997  \n",
       "3     4314184  \n",
       "4     9144092  "
      ]
     },
     "execution_count": 2,
     "metadata": {},
     "output_type": "execute_result"
    }
   ],
   "source": [
    "pd.set_option('display.max_columns', None)\n",
    "df_encrypt = pd.read_csv('dataset_febrl3.csv',low_memory=False)\n",
    "df_encrypt.head()"
   ]
  },
  {
   "cell_type": "code",
   "execution_count": 4,
   "id": "c13c4a3d-052e-4230-86ec-0e6ef2f80657",
   "metadata": {
    "pycharm": {
     "name": "#%%\n"
    }
   },
   "outputs": [
    {
     "data": {
      "text/plain": [
       "(5000, 10)"
      ]
     },
     "execution_count": 4,
     "metadata": {},
     "output_type": "execute_result"
    }
   ],
   "source": [
    "df_encrypt.shape"
   ]
  },
  {
   "cell_type": "markdown",
   "id": "8d5f821b",
   "metadata": {
    "pycharm": {
     "name": "#%% md\n"
    }
   },
   "source": [
    "# Generation of keys"
   ]
  },
  {
   "cell_type": "code",
   "execution_count": 4,
   "id": "d7000986",
   "metadata": {
    "pycharm": {
     "name": "#%%\n"
    }
   },
   "outputs": [],
   "source": [
    "key = RSA.generate(2048) # Generating a new RSA key pair\n",
    "with open('public_key.pem', 'wb') as file:\n",
    "    file.write(key.publickey().export_key()) # Saving the public and private keys\n",
    "with open('private_key.pem', 'wb') as file:\n",
    "    file.write(key.export_key())"
   ]
  },
  {
   "cell_type": "markdown",
   "id": "060870af",
   "metadata": {
    "pycharm": {
     "name": "#%% md\n"
    }
   },
   "source": [
    "# Opening a dataset for encryption"
   ]
  },
  {
   "cell_type": "code",
   "execution_count": 5,
   "id": "5065f09c",
   "metadata": {
    "pycharm": {
     "name": "#%%\n"
    }
   },
   "outputs": [],
   "source": [
    "with open('df_encrypt.csv', 'rb') as file:   # Opening the dataset file for encryption in binary format\n",
    "    data = file.read()"
   ]
  },
  {
   "cell_type": "markdown",
   "id": "cf961519",
   "metadata": {
    "pycharm": {
     "name": "#%% md\n"
    }
   },
   "source": [
    "# Encryption Key Generation"
   ]
  },
  {
   "cell_type": "code",
   "execution_count": 6,
   "id": "a5a9bd1c",
   "metadata": {
    "pycharm": {
     "name": "#%%\n"
    }
   },
   "outputs": [],
   "source": [
    "symmetric_key = os.urandom(32) # Generating a random 256-bit encryption key\n",
    "iv = os.urandom(16) # Initializing the AES cipher in CBC mode with a random IV\n",
    "cipher = AES.new(symmetric_key, AES.MODE_CBC, iv=iv)\n",
    "padded_data = pad(data, AES.block_size) # Padding the data to a multiple of 16 bytes "
   ]
  },
  {
   "cell_type": "markdown",
   "id": "e45139db",
   "metadata": {
    "pycharm": {
     "name": "#%% md\n"
    }
   },
   "source": [
    "# Encryption"
   ]
  },
  {
   "cell_type": "code",
   "execution_count": 7,
   "id": "cdb1ae3c",
   "metadata": {
    "pycharm": {
     "name": "#%%\n"
    }
   },
   "outputs": [],
   "source": [
    "encrypted_data = cipher.encrypt(padded_data) # Encrypting the data with AES\n",
    "rsa_cipher = PKCS1_OAEP.new(key.publickey()) # Encrypting the symmetric key with RSA\n",
    "encrypted_symmetric_key = rsa_cipher.encrypt(symmetric_key)\n",
    "\n",
    "with open('encrypted_data.bin', 'wb') as file:\n",
    "    file.write(encrypted_symmetric_key + iv + encrypted_data) # Saving the encrypted data and symmetric key to a new file\n",
    "\n",
    "with open('encrypted_data.bin', 'rb') as file: # Opening the encrypted data file for decryption in binary mode\n",
    "    encrypted_data = file.read()\n",
    "\n",
    "encrypted_symmetric_key = encrypted_data[:key.size_in_bytes()]  # Extracting the encrypted symmetric key and IV from the file\n",
    "iv = encrypted_data[key.size_in_bytes():key.size_in_bytes()+AES.block_size]"
   ]
  },
  {
   "cell_type": "code",
   "execution_count": 13,
   "id": "bd78875b-3ff8-4beb-9204-2a5070762a34",
   "metadata": {
    "pycharm": {
     "name": "#%%\n"
    }
   },
   "outputs": [],
   "source": [
    "with open('encrypted_data.csv', 'wb') as file: # Saving a csv of encrypted data\n",
    "    file.write(encrypted_data)"
   ]
  },
  {
   "cell_type": "markdown",
   "id": "90725fac",
   "metadata": {
    "pycharm": {
     "name": "#%% md\n"
    }
   },
   "source": [
    "# Decryption"
   ]
  },
  {
   "cell_type": "code",
   "execution_count": 13,
   "id": "166cf11f",
   "metadata": {
    "pycharm": {
     "name": "#%%\n"
    }
   },
   "outputs": [],
   "source": [
    "rsa_cipher = PKCS1_OAEP.new(key)          # Decrypting the symmetric key with RSA\n",
    "symmetric_key = rsa_cipher.decrypt(encrypted_symmetric_key) \n",
    "\n",
    "cipher = AES.new(symmetric_key, AES.MODE_CBC, iv=iv) # Initializing the AES cipher with the decrypted symmetric key and IV\n",
    "\n",
    "decrypted_data = unpad(cipher.decrypt(encrypted_data[key.size_in_bytes()+AES.block_size:]), AES.block_size) # Decrypting the data with AES\n",
    "\n",
    "with open('decrypted_data.csv', 'wb') as file: # Saving a csv of the decrypted data\n",
    "    file.write(decrypted_data)"
   ]
  }
 ],
 "metadata": {
  "kernelspec": {
   "display_name": "Python 3 (ipykernel)",
   "language": "python",
   "name": "python3"
  },
  "language_info": {
   "codemirror_mode": {
    "name": "ipython",
    "version": 3
   },
   "file_extension": ".py",
   "mimetype": "text/x-python",
   "name": "python",
   "nbconvert_exporter": "python",
   "pygments_lexer": "ipython3",
   "version": "3.9.13"
  }
 },
 "nbformat": 4,
 "nbformat_minor": 5
}
